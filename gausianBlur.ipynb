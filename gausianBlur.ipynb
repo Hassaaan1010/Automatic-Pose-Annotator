{
 "cells": [
  {
   "cell_type": "code",
   "execution_count": 1,
   "metadata": {},
   "outputs": [],
   "source": [
    "import cv2\n",
    "from ultralytics import YOLO"
   ]
  },
  {
   "cell_type": "code",
   "execution_count": 23,
   "metadata": {},
   "outputs": [],
   "source": [
    "path = \"/home/hassaan/Downloads/DPT2/369.png\"\n",
    "path = \"/home/hassaan/Downloads/allFinal/324.png\"\n",
    "path = \"/home/hassaan/Downloads/allFinal/252.png\""
   ]
  },
  {
   "cell_type": "code",
   "execution_count": 4,
   "metadata": {},
   "outputs": [],
   "source": [
    "model = YOLO(\"models/yolov8m.pt\")\n",
    "# model in multi_people_splitting/"
   ]
  },
  {
   "cell_type": "code",
   "execution_count": 21,
   "metadata": {},
   "outputs": [],
   "source": [
    "def test_object_detection(path):\n",
    "    frame = cv2.imread(path)\n",
    "\n",
    "    results = model(frame)\n",
    "\n",
    "    # Render the results\n",
    "    for result in results:\n",
    "        if result.boxes is not None:\n",
    "            for box in result.boxes:\n",
    "                label = model.names[int(box.cls[0])]\n",
    "                if label == \"person\":\n",
    "                    x1, y1, x2, y2 = box.xyxy[0].numpy().astype(int)\n",
    "                    print(x1, y1, x2, y2)\n",
    "                    print(\"gives area:\", x2 * y2)\n",
    "                    confidence = box.conf[0]\n",
    "\n",
    "                    # Draw bounding box and label\n",
    "                    cv2.rectangle(frame, (x1, y1), (x2, y2), (0, 255, 0), 2)\n",
    "                    cv2.putText(\n",
    "                        frame,\n",
    "                        f\"{label} {confidence:.2f}\",\n",
    "                        (x1, y1 - 10),\n",
    "                        cv2.FONT_HERSHEY_SIMPLEX,\n",
    "                        0.5,\n",
    "                        (0, 255, 0),\n",
    "                        2,\n",
    "                    )\n",
    "    return frame, results"
   ]
  },
  {
   "cell_type": "code",
   "execution_count": 24,
   "metadata": {},
   "outputs": [
    {
     "name": "stdout",
     "output_type": "stream",
     "text": [
      "\n",
      "0: 384x640 2 persons, 1 dog, 3 bottles, 2 bowls, 2 chairs, 1 dining table, 2 sinks, 1 refrigerator, 1249.4ms\n",
      "Speed: 4.4ms preprocess, 1249.4ms inference, 1.0ms postprocess per image at shape (1, 3, 384, 640)\n",
      "825 243 1020 705\n",
      "gives area: 719100\n",
      "325 181 492 610\n",
      "gives area: 300120\n"
     ]
    }
   ],
   "source": [
    "image, results = test_object_detection(path)\n",
    "while True:\n",
    "    # Display the frame\n",
    "    h, w, _ = image.shape\n",
    "    # print(h, w)\n",
    "    image = cv2.resize(image, (321 * 3, 491 * 3))\n",
    "    cv2.imshow(\"YOLOv8 Nano\", image)\n",
    "\n",
    "    # Exit on 'q' key press\n",
    "    if cv2.waitKey(10) & 0xFF == ord(\"q\"):\n",
    "        break\n",
    "cv2.destroyAllWindows()"
   ]
  },
  {
   "cell_type": "code",
   "execution_count": 16,
   "metadata": {},
   "outputs": [
    {
     "name": "stdout",
     "output_type": "stream",
     "text": [
      "tensor(0.)\n",
      "tensor(71.)\n",
      "tensor(62.)\n",
      "tensor(62.)\n",
      "tensor(56.)\n",
      "tensor(39.)\n",
      "tensor(24.)\n"
     ]
    }
   ],
   "source": [
    "for result in results:\n",
    "    if result.boxes is not None:\n",
    "        for box in result.boxes:\n",
    "            print(int(box.cls[0]))\n",
    "            x1, y1, x2, y2 = box.xyxy[0].numpy().astype(int)\n",
    "            # print(x1, y1, x2, y2)\n",
    "            label = model.names[int(box.cls[0])]\n",
    "            confidence = box.conf[0]\n",
    "            "
   ]
  },
  {
   "cell_type": "code",
   "execution_count": null,
   "metadata": {},
   "outputs": [],
   "source": []
  }
 ],
 "metadata": {
  "kernelspec": {
   "display_name": "Python 3",
   "language": "python",
   "name": "python3"
  },
  "language_info": {
   "codemirror_mode": {
    "name": "ipython",
    "version": 3
   },
   "file_extension": ".py",
   "mimetype": "text/x-python",
   "name": "python",
   "nbconvert_exporter": "python",
   "pygments_lexer": "ipython3",
   "version": "3.10.12"
  }
 },
 "nbformat": 4,
 "nbformat_minor": 2
}
