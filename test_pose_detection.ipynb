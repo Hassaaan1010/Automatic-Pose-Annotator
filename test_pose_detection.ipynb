{
 "cells": [
  {
   "cell_type": "code",
   "execution_count": 2,
   "metadata": {},
   "outputs": [],
   "source": [
    "import cv2\n",
    "from ultralytics import YOLO"
   ]
  },
  {
   "cell_type": "code",
   "execution_count": 3,
   "metadata": {},
   "outputs": [],
   "source": [
    "model = YOLO(\"models/yolov8m-pose.pt\")\n",
    "# model in multi_people_splitting/"
   ]
  },
  {
   "cell_type": "code",
   "execution_count": 29,
   "metadata": {},
   "outputs": [],
   "source": [
    "def test_pose_detection(path, show=False):\n",
    "    frame = cv2.imread(path)\n",
    "\n",
    "    results = model.predict(frame)\n",
    "    keypoints = results[0].keypoints\n",
    "    if len(keypoints) > 0:\n",
    "        keypoints = keypoints[0].cpu().numpy()\n",
    "    else:\n",
    "        keypoints = None\n",
    "    frame = cv2.cvtColor(frame, cv2.COLOR_RGB2BGR)\n",
    "    if keypoints is not None:\n",
    "        xy = keypoints.data[0]\n",
    "        conf = keypoints.conf[0]\n",
    "        for i in range(len(xy)):\n",
    "            x, y, c = xy[i]\n",
    "            if c > 0:\n",
    "                cv2.circle(frame, (int(x), int(y)), 2, (0, 255, 0), -1)\n",
    "                cv2.putText(\n",
    "                    frame,\n",
    "                    f\"{i}-{int(c*100)}\",\n",
    "                    (int(x), int(y) - 10),\n",
    "                    cv2.FONT_HERSHEY_SIMPLEX,\n",
    "                    0.5,\n",
    "                    (255, 0, 0),\n",
    "                    1,\n",
    "                )\n",
    "    # Resize the frame to 720x960\n",
    "    # frame = cv2.resize(frame, (960, 720))\n",
    "    while show:\n",
    "        cv2.imshow(\"C\", frame)\n",
    "        if cv2.waitKey(10) & 0xFF == ord(\"q\"):\n",
    "            break\n",
    "    cv2.destroyAllWindows()\n",
    "    return results\n",
    "    # return image"
   ]
  },
  {
   "cell_type": "code",
   "execution_count": 34,
   "metadata": {},
   "outputs": [],
   "source": [
    "path = \"/home/hassaan/Downloads/DPT2/311.png\"\n",
    "# path = \"/home/hassaan/Downloads/allFinal/111.png\" 311"
   ]
  },
  {
   "cell_type": "code",
   "execution_count": 35,
   "metadata": {},
   "outputs": [
    {
     "name": "stdout",
     "output_type": "stream",
     "text": [
      "\n",
      "0: 384x640 1 person, 1422.9ms\n",
      "Speed: 3.1ms preprocess, 1422.9ms inference, 1.6ms postprocess per image at shape (1, 3, 384, 640)\n"
     ]
    }
   ],
   "source": [
    "results = test_pose_detection(path, show=True)\n",
    "# print(results[0].keypoints)"
   ]
  },
  {
   "cell_type": "code",
   "execution_count": 72,
   "metadata": {},
   "outputs": [
    {
     "data": {
      "text/plain": [
       "tensor([[0.0787, 0.0221, 0.0683, 0.8043, 0.9252, 0.9826, 0.9942, 0.6836, 0.9215, 0.2650, 0.5239, 0.9426, 0.9661, 0.4414, 0.5608, 0.0784, 0.1055]])"
      ]
     },
     "execution_count": 72,
     "metadata": {},
     "output_type": "execute_result"
    }
   ],
   "source": [
    "results[0].keypoints.conf"
   ]
  },
  {
   "cell_type": "code",
   "execution_count": 37,
   "metadata": {},
   "outputs": [],
   "source": [
    "cv2.destroyAllWindows()"
   ]
  },
  {
   "cell_type": "code",
   "execution_count": null,
   "metadata": {},
   "outputs": [],
   "source": []
  }
 ],
 "metadata": {
  "kernelspec": {
   "display_name": "Python 3",
   "language": "python",
   "name": "python3"
  },
  "language_info": {
   "codemirror_mode": {
    "name": "ipython",
    "version": 3
   },
   "file_extension": ".py",
   "mimetype": "text/x-python",
   "name": "python",
   "nbconvert_exporter": "python",
   "pygments_lexer": "ipython3",
   "version": "3.10.12"
  }
 },
 "nbformat": 4,
 "nbformat_minor": 2
}
