{
 "cells": [
  {
   "cell_type": "code",
   "execution_count": 1,
   "metadata": {},
   "outputs": [],
   "source": [
    "import os\n",
    "import shutil\n",
    "import cv2"
   ]
  },
  {
   "cell_type": "code",
   "execution_count": 3,
   "metadata": {},
   "outputs": [],
   "source": [
    "source_folder = \"../DPT2/\"\n",
    "destination_folder = \"../\""
   ]
  },
  {
   "cell_type": "code",
   "execution_count": null,
   "metadata": {},
   "outputs": [],
   "source": [
    "source_folder_list = list(os.listdir(source_folder))\n",
    "source_folder_list.sort(key=lambda x: int(x.split(\".\")[0]))"
   ]
  },
  {
   "cell_type": "code",
   "execution_count": null,
   "metadata": {},
   "outputs": [],
   "source": [
    "for img in source_folder_list:\n",
    "    path = f\"../DPT2/{img}\"\n",
    "    image = cv2.imread(path)\n",
    "    print(image.shape)\n",
    "    height, width, _ = image.shape\n",
    "    # portrait\n",
    "    if height >= width:\n",
    "        if height > 1920:\n",
    "            newHeight = 1920\n",
    "            newWidth = int((1920 / height) * width)\n",
    "            image = cv2.resize(image, (newWidth, newHeight))\n",
    "    # landscape\n",
    "    else:\n",
    "        if width > 1920:\n",
    "            newWidth = 1920\n",
    "            newHeight = int((1920 / width) * height)\n",
    "            image = cv2.resize(image, (newWidth, newHeight))\n",
    "    print(image.shape)\n",
    "    cv2.imwrite(f\"../DPT2/{img}\", image)\n",
    "    print(img)\n",
    "\n",
    "    # image = cv2.imread(\"../DPT2/{img}\")"
   ]
  },
  {
   "cell_type": "code",
   "execution_count": 11,
   "metadata": {},
   "outputs": [
    {
     "data": {
      "text/plain": [
       "1279.921875"
      ]
     },
     "execution_count": 11,
     "metadata": {},
     "output_type": "execute_result"
    }
   ],
   "source": [
    "(1920 / 8192) * 5461"
   ]
  },
  {
   "cell_type": "code",
   "execution_count": null,
   "metadata": {},
   "outputs": [],
   "source": []
  }
 ],
 "metadata": {
  "kernelspec": {
   "display_name": "Python 3",
   "language": "python",
   "name": "python3"
  },
  "language_info": {
   "codemirror_mode": {
    "name": "ipython",
    "version": 3
   },
   "file_extension": ".py",
   "mimetype": "text/x-python",
   "name": "python",
   "nbconvert_exporter": "python",
   "pygments_lexer": "ipython3",
   "version": "3.10.12"
  }
 },
 "nbformat": 4,
 "nbformat_minor": 2
}
