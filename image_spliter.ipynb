{
 "cells": [
  {
   "cell_type": "code",
   "execution_count": 98,
   "metadata": {},
   "outputs": [],
   "source": [
    "import cv2\n",
    "from ultralytics import YOLO"
   ]
  },
  {
   "cell_type": "code",
   "execution_count": 131,
   "metadata": {},
   "outputs": [],
   "source": [
    "# path = \"/home/hassaan/Downloads/DPT2/343.png\"\n",
    "path = \"/home/hassaan/Downloads/allFinal/316.png\""
   ]
  },
  {
   "cell_type": "code",
   "execution_count": 100,
   "metadata": {},
   "outputs": [],
   "source": [
    "model = YOLO(\"models/yolov8m.pt\")"
   ]
  },
  {
   "cell_type": "code",
   "execution_count": 113,
   "metadata": {},
   "outputs": [],
   "source": [
    "def return_people_bboxes(path):\n",
    "    frame = cv2.imread(path)\n",
    "\n",
    "    results = model(frame)\n",
    "    bboxes = []\n",
    "    confs = []\n",
    "    # Render the results\n",
    "    for result in results:\n",
    "        if result.boxes is not None:\n",
    "            for box in result.boxes:\n",
    "                confidence = float(box.conf[0])\n",
    "                bbox = box.xyxy[0].numpy().astype(int)\n",
    "\n",
    "                if int(box.cls[0]) == 0:\n",
    "                    bboxes.append(list(bbox))\n",
    "                    confs.append(confidence)\n",
    "\n",
    "                    #     print(bbox)\n",
    "                    #     bboxes.append(bbox)\n",
    "                    x1, y1, x2, y2 = bbox\n",
    "\n",
    "                    # Draw bounding box and label\n",
    "                    cv2.rectangle(frame, (x1, y1), (x2, y2), (0, 255, 0), 2)\n",
    "                    cv2.putText(\n",
    "                        frame,\n",
    "                        f\"{0} {confidence:.2f}\",\n",
    "                        (x1, y1 + 10),\n",
    "                        cv2.FONT_HERSHEY_SIMPLEX,\n",
    "                        0.5,\n",
    "                        (0, 255, 0),\n",
    "                        2,\n",
    "                    )\n",
    "    # print(frame)\n",
    "    return bboxes, confs, frame"
   ]
  },
  {
   "cell_type": "code",
   "execution_count": 114,
   "metadata": {},
   "outputs": [
    {
     "name": "stdout",
     "output_type": "stream",
     "text": [
      "\n",
      "0: 384x640 2 persons, 2 bicycles, 1 car, 916.7ms\n",
      "Speed: 5.2ms preprocess, 916.7ms inference, 1.1ms postprocess per image at shape (1, 3, 384, 640)\n"
     ]
    }
   ],
   "source": [
    "bboxes, confs, frame = return_people_bboxes(path)"
   ]
  },
  {
   "cell_type": "code",
   "execution_count": 116,
   "metadata": {},
   "outputs": [
    {
     "data": {
      "text/plain": [
       "[[203, 234, 384, 668], [504, 222, 677, 580]]"
      ]
     },
     "execution_count": 116,
     "metadata": {},
     "output_type": "execute_result"
    }
   ],
   "source": [
    "bboxes.sort(key=lambda x: x[0])\n",
    "bboxes"
   ]
  },
  {
   "cell_type": "code",
   "execution_count": 47,
   "metadata": {},
   "outputs": [],
   "source": [
    "def check_overlap(box1, box2):\n",
    "    # bbox is TL and BR corner coordinates\n",
    "    x1, y1, x2, y2 = box1\n",
    "    a1, b1, a2, b2 = box2\n",
    "\n",
    "    box1_corners = [\n",
    "        (x1, y1),  # TL\n",
    "        (x2, y1),  # TR\n",
    "        (x1, y2),  # BL\n",
    "        (x2, y2),  # BR\n",
    "    ]\n",
    "\n",
    "    while False:\n",
    "        corner_overlap_areas = {\n",
    "            \"TL\": ((a2 - x1) * (b2 - y1)),\n",
    "            \"TR\": ((x1 - a1) * (b2 - y2)),\n",
    "            \"BL\": ((a2 - x1) * (y2 - b1)),\n",
    "            \"BR\": ((x2 - a1) * (y2 - b1)),\n",
    "        }\n",
    "\n",
    "    overlapping_corners = 0\n",
    "    single_corener = () # returns corner for single corner case with small overlap\n",
    "    for corner in box1_corners:\n",
    "        x, y = corner\n",
    "        # check if x1,y1 is in box2\n",
    "        if (x >= a1 and x <= a2) and (y >= b1 and y <= b2):\n",
    "            overlapping_corners += 1\n",
    "            single_corener = (x,y)\n",
    "\n",
    "    area = 0\n",
    "    if overlapping_corners > 0:\n",
    "        # calculate the coordinates of the overlapping rectangle\n",
    "        x_left = max(x1, a1)\n",
    "        y_top = max(y1, b1)\n",
    "        x_right = min(x2, a2)\n",
    "        y_bottom = min(y2, b2)\n",
    "\n",
    "        # calculate overlap area\n",
    "        overlap_width = x_right - x_left\n",
    "        overlap_height = y_bottom - y_top\n",
    "        area = overlap_width * overlap_height\n",
    "\n",
    "    return overlapping_corners, area"
   ]
  },
  {
   "cell_type": "code",
   "execution_count": null,
   "metadata": {},
   "outputs": [],
   "source": [
    "def image_to_dataset(frame,bboxes,confs,index):\n",
    "    \n",
    "    # 1 person\n",
    "    if len(bboxes) == 1:\n",
    "        # write depthmap of corresponding image as it is into dataset\n",
    "        section1 = frame\n",
    "        pass\n",
    "    \n",
    "    # 2 person\n",
    "    if len(bboxes) == 2:\n",
    "\n",
    "        bbox1, bbox2 = bboxes\n",
    "        overlapping_corners , area = check_overlap(bbox1, bbox2)\n",
    "        \n",
    "        # no overlap\n",
    "        if area == 0:\n",
    "            # sort bboxes to organize by TL corner\n",
    "            bboxes.sort(key= lambda x: x[0])\n",
    "            box1,box2 = bboxes\n",
    "            x1, y1, x2 ,y2 = box1\n",
    "            a1, b1, a2, b2 = box2\n",
    "            \n",
    "            # not right, above or below. :. box1 is to the left of box2 \n",
    "            if x2 <= a1:\n",
    "                mid_x = (x2 + a1) // 2\n",
    "                \n",
    "                section1 = frame[:mid_x,:]\n",
    "                section2 = frame[mid_x:,:]\n",
    "            \n",
    "            # box1 is above or below box2\n",
    "            else:\n",
    "                if y2 >= b1:    #if above\n",
    "                    mid_y = (y2 + b1) // 2\n",
    "                    \n",
    "                elif b2 >= y1:  #if below\n",
    "                    mid_y = (y1 + b2) // 2\n",
    "                    \n",
    "                section1 = frame[:,:mid_y]\n",
    "                section2 = frame[:,mid_y:]\n",
    "                 \n",
    "        \n",
    "        # overlap\n",
    "        if area > 0:\n",
    "            # 1 corner overlap\n",
    "            if overlapping_corners == 1:\n",
    "                a1, a2, b1, b2 = bboxes[1]\n",
    "                \n",
    "                # if overlap area is less than 30% area of bbox2\n",
    "                if area < 0.3 * (a2-a1) * (b2-b1):\n",
    "                    bboxes.sort(key= lambda x: x[0])\n",
    "                    box1, box2 = bboxes\n",
    "                    \n",
    "                    mid_x = (box1[2] + box2[0]) / 2\n",
    "                    \n",
    "                    section1 = frame[:mid_x,:]\n",
    "                    section2 = frame[mid_x:,:]\n",
    "                \n",
    "                else:\n",
    "                    \n",
    "                    # box1 is significantly more recognizable than box2\n",
    "                    if confs[0] > confs[1] - 10:\n",
    "                        # use only box1\n",
    "                        section1 = frame[box1[0]:box1[2],box1[1]:box1[3]]\n",
    "                        \n",
    "                    # box2 is significantly more recognizable than box1\n",
    "                    elif confs[0] < confs[1] - 10:\n",
    "                        # use only box1\n",
    "                        section1 = frame[box2[0]:box2[2],box2[1]:box2[3]]\n",
    "                        \n",
    "                    else:\n",
    "                        # both box are similarly recognizable and have significant overlap\n",
    "                        section1 = frame[box1[0]:box1[2],box1[1]:box1[3]]\n",
    "                        section2 = frame[box2[0]:box2[2],box2[1]:box2[3]]\n",
    "                        \n",
    "            \n",
    "            # edge overlap\n",
    "            elif overlapping_corners == 2:\n",
    "                \n",
    "                pass\n",
    "                \n",
    "            \n",
    "            # full overlap\n",
    "            else:\n",
    "                pass\n",
    "\n",
    "    # 3 person\n",
    "    if len(bboxes) > 2:\n",
    "        pass\n",
    "    \n",
    "    if bboxes == []:\n",
    "        # skip image\n",
    "        pass\n",
    "    pass"
   ]
  },
  {
   "cell_type": "code",
   "execution_count": 60,
   "metadata": {},
   "outputs": [
    {
     "data": {
      "text/plain": [
       "[[388, 231, 631, 767], [605, 199, 799, 683]]"
      ]
     },
     "execution_count": 60,
     "metadata": {},
     "output_type": "execute_result"
    }
   ],
   "source": [
    "bboxes.sort(key=lambda x: x[0])\n",
    "bboxes"
   ]
  },
  {
   "cell_type": "code",
   "execution_count": 61,
   "metadata": {},
   "outputs": [],
   "source": [
    "frame = cv2.imread(path)"
   ]
  },
  {
   "cell_type": "code",
   "execution_count": 118,
   "metadata": {},
   "outputs": [],
   "source": [
    "bboxes.sort(key=lambda x: x[0])\n",
    "box1, box2 = bboxes\n",
    "\n",
    "mid_x = (box1[2] + box2[0]) // 2\n",
    "\n",
    "section1 = frame[:, :mid_x]\n",
    "section2 = frame[:, mid_x:]\n",
    "\n",
    "while True:\n",
    "    cv2.imshow(\"1\", section1)\n",
    "    cv2.imshow(\"2\", section2)\n",
    "\n",
    "    if cv2.waitKey(10) & 0xFF == ord(\"q\"):\n",
    "        break\n",
    "cv2.destroyAllWindows()"
   ]
  },
  {
   "cell_type": "code",
   "execution_count": null,
   "metadata": {},
   "outputs": [],
   "source": []
  }
 ],
 "metadata": {
  "kernelspec": {
   "display_name": "Python 3",
   "language": "python",
   "name": "python3"
  },
  "language_info": {
   "codemirror_mode": {
    "name": "ipython",
    "version": 3
   },
   "file_extension": ".py",
   "mimetype": "text/x-python",
   "name": "python",
   "nbconvert_exporter": "python",
   "pygments_lexer": "ipython3",
   "version": "3.10.12"
  }
 },
 "nbformat": 4,
 "nbformat_minor": 2
}
